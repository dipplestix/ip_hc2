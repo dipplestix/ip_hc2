{
 "cells": [
  {
   "cell_type": "code",
   "execution_count": 1,
   "metadata": {},
   "outputs": [],
   "source": [
    "import random\n",
    "\n",
    "n = 10000000"
   ]
  },
  {
   "cell_type": "code",
   "execution_count": 2,
   "metadata": {},
   "outputs": [
    {
     "name": "stdout",
     "output_type": "stream",
     "text": [
      "0.7501103\n"
     ]
    }
   ],
   "source": [
    "# Part 1\n",
    "\n",
    "i = 0\n",
    "count = 0\n",
    "while i < n:\n",
    "    v1 = random.random()\n",
    "    v2 = random.random()\n",
    "    given = random.choice([v1, v2])\n",
    "    if given <= .5:\n",
    "        i += 1\n",
    "        if v1 <= .5:\n",
    "            count += 1\n",
    "            \n",
    "print(count/n)  \n",
    "\n",
    "#P(H) = 1/2\n",
    "#P(HH|H) = (1/4)/(1/2)=.5\n",
    "#P(HT|H) = (1/8)/(1/2) = .25\n",
    "#.75"
   ]
  },
  {
   "cell_type": "code",
   "execution_count": 3,
   "metadata": {},
   "outputs": [
    {
     "name": "stdout",
     "output_type": "stream",
     "text": [
      "0.8332575\n"
     ]
    }
   ],
   "source": [
    "# Part 2\n",
    "\n",
    "i = 0\n",
    "count = 0\n",
    "hh = 0\n",
    "ht = 0\n",
    "while i < n:\n",
    "    v1 = random.random()\n",
    "    v2 = random.random()\n",
    "    given = random.choice([v1, v2])\n",
    "    given2 = random.choice([v1, v2])\n",
    "    if given <= .5 and given2 <= .5:\n",
    "        i += 1\n",
    "        if v1 <= .5:\n",
    "            count += 1\n",
    "            if v2 <= .5:\n",
    "                hh += 1\n",
    "            else:\n",
    "                ht += 1\n",
    "            \n",
    "print(count/n)  \n",
    "\n",
    "\n",
    "#P(HH) = 3/8\n",
    "#P(HH|HH) = (1/4)/(1/2)= 2/3\n",
    "#P(HT|HH) = (1/8)/(1/2) = 1/6\n",
    "#5/6"
   ]
  },
  {
   "cell_type": "code",
   "execution_count": 4,
   "metadata": {},
   "outputs": [
    {
     "name": "stdout",
     "output_type": "stream",
     "text": [
      "0.5004888\n"
     ]
    }
   ],
   "source": [
    "# Part 3\n",
    "\n",
    "i = 0\n",
    "count = 0\n",
    "hh = 0\n",
    "ht = 0\n",
    "while i < n:\n",
    "    v1 = random.random()\n",
    "    v2 = random.random()\n",
    "    given = random.choice([v1, v2])\n",
    "    given2 = random.choice([v1, v2])\n",
    "    if given <= .5 and given2 >= .5:\n",
    "        i += 1\n",
    "        if v1 <= .5:\n",
    "            count += 1\n",
    "            if v2 <= .5:\n",
    "                hh += 1\n",
    "            else:\n",
    "                ht += 1\n",
    "            \n",
    "print(count/n)  \n",
    "\n",
    "\n",
    "#P(HT) = 2/16\n",
    "#P(HH|HT) = 0\n",
    "#P(HT|HT) = (1/16)/(2/16) \n",
    "#1/2"
   ]
  },
  {
   "cell_type": "code",
   "execution_count": 5,
   "metadata": {},
   "outputs": [],
   "source": [
    "# Part 4\n",
    "\n",
    "# If you're told heads and a million other people are told tails, it's still 50%. This is incredibly incredibly unlikely though. As soon as anyone is told tails, the p\n",
    "# that the true coin is heads is .5 since you know one is heads and one is tails and there's just no way to know which is which. Having the heads is incredibly valuable though\n",
    "# As everyone else will think it's tails"
   ]
  },
  {
   "cell_type": "code",
   "execution_count": 8,
   "metadata": {},
   "outputs": [
    {
     "data": {
      "text/plain": [
       "{1.0: 4943, 0.5: 5057}"
      ]
     },
     "execution_count": 8,
     "metadata": {},
     "output_type": "execute_result"
    }
   ],
   "source": [
    "# Part 5\n",
    "\n",
    "# If you're told heads that means it's either HH, HT, or TH. The most likely values of f_h are then either 1 (for HH) or .5 (for HT/TH). \n",
    "\n",
    "i = 0\n",
    "count = 0\n",
    "hh = 0\n",
    "ht = 0\n",
    "hrats = {}\n",
    "while i < 10000:\n",
    "    v1 = random.random()\n",
    "    v2 = random.random()\n",
    "    h_rat = 0\n",
    "    given = random.choice([v1, v2])\n",
    "    if given <= .5:\n",
    "        for _ in range(10000):\n",
    "            v = random.choice([v1, v2])\n",
    "            if v <= .5:\n",
    "                h_rat += 1/10000\n",
    "        i += 1\n",
    "        h_rat = round(h_rat, 1)\n",
    "        try:\n",
    "            hrats[h_rat] += 1\n",
    "        except KeyError:\n",
    "            hrats[h_rat] = 1\n",
    "hrats"
   ]
  },
  {
   "cell_type": "code",
   "execution_count": 7,
   "metadata": {},
   "outputs": [],
   "source": [
    "# Part 6\n",
    "\n",
    "# Given someone being told something updates their prior to be .75 sure that that is the outcome, people will naturally bid on the side of the coin they were told"
   ]
  },
  {
   "cell_type": "code",
   "execution_count": 11,
   "metadata": {},
   "outputs": [],
   "source": [
    "# Worksheet 2, question 1\n",
    "\n",
    "# same as question 1 from sheet 1"
   ]
  },
  {
   "cell_type": "code",
   "execution_count": 14,
   "metadata": {},
   "outputs": [
    {
     "name": "stdout",
     "output_type": "stream",
     "text": [
      "0.8998887\n"
     ]
    }
   ],
   "source": [
    "# Worksheet 2, question 2\n",
    "\n",
    "\n",
    "i = 0\n",
    "count = 0\n",
    "hh = 0\n",
    "ht = 0\n",
    "while i < n:\n",
    "    v1 = random.random()\n",
    "    v2 = random.random()\n",
    "    v3 = random.random()\n",
    "    given = random.choice([v1, v2])\n",
    "    given2 = random.choice([v1, v3])\n",
    "    if given <= .5 and given2 <= .5:\n",
    "        i += 1\n",
    "        if v1 <= .5:\n",
    "            count += 1\n",
    "            if v2 <= .5:\n",
    "                hh += 1\n",
    "            else:\n",
    "                ht += 1\n",
    "            \n",
    "print(count/n)  \n",
    "\n",
    "#P(HH) = 10/32\n",
    "#P(HHH|HH) = 4/10\n",
    "#P(HTH|HH) = 2/10\n",
    "#P(HHT|HH) = 2/10\n",
    "#P(HTT|HH) = 1/10\n",
    "\n",
    "#9/10"
   ]
  },
  {
   "cell_type": "code",
   "execution_count": 15,
   "metadata": {},
   "outputs": [
    {
     "name": "stdout",
     "output_type": "stream",
     "text": [
      "0.5000962\n"
     ]
    }
   ],
   "source": [
    "# Worksheet 2, question 3\n",
    "\n",
    "\n",
    "i = 0\n",
    "count = 0\n",
    "hh = 0\n",
    "ht = 0\n",
    "while i < n:\n",
    "    v1 = random.random()\n",
    "    v2 = random.random()\n",
    "    v3 = random.random()\n",
    "    given = random.choice([v1, v2])\n",
    "    given2 = random.choice([v1, v3])\n",
    "    if given <= .5 and given2 > .5:\n",
    "        i += 1\n",
    "        if v1 <= .5:\n",
    "            count += 1\n",
    "            if v2 <= .5:\n",
    "                hh += 1\n",
    "            else:\n",
    "                ht += 1\n",
    "            \n",
    "print(count/n)  "
   ]
  },
  {
   "cell_type": "code",
   "execution_count": null,
   "metadata": {},
   "outputs": [],
   "source": [
    "# Basically 0"
   ]
  }
 ],
 "metadata": {
  "kernelspec": {
   "display_name": "Python 3",
   "language": "python",
   "name": "python3"
  },
  "language_info": {
   "codemirror_mode": {
    "name": "ipython",
    "version": 3
   },
   "file_extension": ".py",
   "mimetype": "text/x-python",
   "name": "python",
   "nbconvert_exporter": "python",
   "pygments_lexer": "ipython3",
   "version": "3.7.3"
  }
 },
 "nbformat": 4,
 "nbformat_minor": 2
}
